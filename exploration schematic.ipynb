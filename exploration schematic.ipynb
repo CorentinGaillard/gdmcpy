{
 "cells": [
  {
   "cell_type": "code",
   "execution_count": 18,
   "id": "7de38ad9",
   "metadata": {},
   "outputs": [],
   "source": [
    "from fastcore.utils import *\n",
    "import nbtschematic as sch\n",
    "from nbtschematic import SchematicFile\n",
    "import nbtlib\n",
    "from nbtlib.tag import *"
   ]
  },
  {
   "cell_type": "code",
   "execution_count": 44,
   "id": "e7575238",
   "metadata": {},
   "outputs": [
    {
     "data": {
      "text/plain": [
       "{'filename': 'plantationsqr.schem', 'gzipped': True, 'byteorder': 'big'}"
      ]
     },
     "execution_count": 44,
     "metadata": {},
     "output_type": "execute_result"
    }
   ],
   "source": [
    "sf = SchematicFile.load('plantationsqr.schem', gzipped=True)\n",
    "sf.__dict__"
   ]
  },
  {
   "cell_type": "code",
   "execution_count": 45,
   "id": "854e5e1c",
   "metadata": {},
   "outputs": [
    {
     "data": {
      "text/plain": [
       "dict_keys(['PaletteMax', 'Palette', 'Version', 'Length', 'Metadata', 'Height', 'DataVersion', 'BlockData', 'BlockEntities', 'Width', 'Offset'])"
      ]
     },
     "execution_count": 45,
     "metadata": {},
     "output_type": "execute_result"
    }
   ],
   "source": [
    "sf.root.keys()"
   ]
  },
  {
   "cell_type": "code",
   "execution_count": 49,
   "id": "418412a8",
   "metadata": {},
   "outputs": [
    {
     "data": {
      "text/plain": [
       "((Short(30), Short(37), Short(37)),\n",
       " (#42335) [Byte(0),Byte(0),Byte(0),Byte(0),Byte(0),Byte(1),Byte(0),Byte(0),Byte(0),Byte(0)...])"
      ]
     },
     "execution_count": 49,
     "metadata": {},
     "output_type": "execute_result"
    }
   ],
   "source": [
    "sf.shape,  L(*sf.root['BlockData'])"
   ]
  },
  {
   "cell_type": "code",
   "execution_count": 76,
   "id": "99777118",
   "metadata": {},
   "outputs": [
    {
     "data": {
      "text/plain": [
       "{3: 'minecraft:cave_air',\n",
       " 38: 'minecraft:brick_slab',\n",
       " 82: 'minecraft:brick_slab',\n",
       " 58: 'minecraft:brick_slab',\n",
       " 145: 'minecraft:quartz_stairs',\n",
       " 87: 'minecraft:quartz_stairs',\n",
       " 99: 'minecraft:quartz_stairs',\n",
       " 94: 'minecraft:quartz_stairs',\n",
       " 42: 'minecraft:quartz_stairs',\n",
       " 106: 'minecraft:quartz_stairs',\n",
       " 166: 'minecraft:quartz_stairs',\n",
       " 92: 'minecraft:quartz_stairs',\n",
       " 107: 'minecraft:quartz_stairs',\n",
       " 46: 'minecraft:quartz_stairs',\n",
       " 104: 'minecraft:quartz_stairs',\n",
       " 105: 'minecraft:quartz_stairs',\n",
       " 144: 'minecraft:quartz_stairs',\n",
       " 95: 'minecraft:quartz_stairs',\n",
       " 167: 'minecraft:quartz_stairs',\n",
       " 110: 'minecraft:quartz_stairs',\n",
       " 28: 'minecraft:quartz_stairs',\n",
       " 48: 'minecraft:quartz_stairs',\n",
       " 85: 'minecraft:quartz_stairs',\n",
       " 83: 'minecraft:quartz_stairs',\n",
       " 56: 'minecraft:stripped_spruce_wood',\n",
       " 57: 'minecraft:stripped_spruce_wood',\n",
       " 55: 'minecraft:stripped_spruce_wood',\n",
       " 16: 'minecraft:redstone_wire',\n",
       " 20: 'minecraft:redstone_wire',\n",
       " 10: 'minecraft:redstone_wire',\n",
       " 11: 'minecraft:redstone_wire',\n",
       " 152: 'minecraft:smooth_quartz_stairs',\n",
       " 142: 'minecraft:smooth_quartz_stairs',\n",
       " 154: 'minecraft:smooth_quartz_stairs',\n",
       " 155: 'minecraft:smooth_quartz_stairs',\n",
       " 161: 'minecraft:smooth_quartz_stairs',\n",
       " 157: 'minecraft:smooth_quartz_stairs',\n",
       " 115: 'minecraft:smooth_quartz_stairs',\n",
       " 162: 'minecraft:smooth_quartz_stairs',\n",
       " 78: 'minecraft:smooth_quartz_stairs',\n",
       " 114: 'minecraft:smooth_quartz_stairs',\n",
       " 156: 'minecraft:smooth_quartz_stairs',\n",
       " 153: 'minecraft:smooth_quartz_stairs',\n",
       " 86: 'minecraft:smooth_quartz_stairs',\n",
       " 139: 'minecraft:smooth_quartz_stairs',\n",
       " 138: 'minecraft:smooth_quartz_stairs',\n",
       " 76: 'minecraft:smooth_quartz_stairs',\n",
       " 77: 'minecraft:smooth_quartz_stairs',\n",
       " 159: 'minecraft:smooth_quartz_stairs',\n",
       " 79: 'minecraft:smooth_quartz_stairs',\n",
       " 160: 'minecraft:smooth_quartz_stairs',\n",
       " 143: 'minecraft:smooth_quartz_stairs',\n",
       " 69: 'minecraft:smooth_quartz_stairs',\n",
       " 68: 'minecraft:glass_pane',\n",
       " 71: 'minecraft:glass_pane',\n",
       " 12: 'minecraft:repeater',\n",
       " 18: 'minecraft:repeater',\n",
       " 81: 'minecraft:white_stained_glass_pane',\n",
       " 80: 'minecraft:white_stained_glass_pane',\n",
       " 53: 'minecraft:quartz_bricks',\n",
       " 36: 'minecraft:calcite',\n",
       " 122: 'minecraft:birch_door',\n",
       " 62: 'minecraft:birch_door',\n",
       " 66: 'minecraft:birch_door',\n",
       " 120: 'minecraft:birch_door',\n",
       " 73: 'minecraft:birch_door',\n",
       " 125: 'minecraft:birch_door',\n",
       " 135: 'minecraft:birch_door',\n",
       " 130: 'minecraft:birch_door',\n",
       " 132: 'minecraft:birch_door',\n",
       " 72: 'minecraft:birch_door',\n",
       " 75: 'minecraft:birch_door',\n",
       " 63: 'minecraft:birch_door',\n",
       " 170: 'minecraft:deepslate_tile_stairs',\n",
       " 171: 'minecraft:deepslate_tile_stairs',\n",
       " 149: 'minecraft:deepslate_tile_stairs',\n",
       " 150: 'minecraft:deepslate_tile_stairs',\n",
       " 148: 'minecraft:deepslate_tile_stairs',\n",
       " 147: 'minecraft:deepslate_tile_stairs',\n",
       " 151: 'minecraft:deepslate_tile_stairs',\n",
       " 164: 'minecraft:deepslate_tile_stairs',\n",
       " 163: 'minecraft:deepslate_tile_stairs',\n",
       " 172: 'minecraft:deepslate_tile_stairs',\n",
       " 165: 'minecraft:deepslate_tile_stairs',\n",
       " 45: 'minecraft:light_gray_glazed_terracotta',\n",
       " 44: 'minecraft:light_gray_glazed_terracotta',\n",
       " 41: 'minecraft:light_gray_glazed_terracotta',\n",
       " 40: 'minecraft:light_gray_glazed_terracotta',\n",
       " 141: 'minecraft:smooth_sandstone_slab',\n",
       " 90: 'minecraft:smooth_sandstone_slab',\n",
       " 109: 'minecraft:smooth_sandstone_slab',\n",
       " 116: 'minecraft:oak_trapdoor',\n",
       " 84: 'minecraft:quartz_slab',\n",
       " 93: 'minecraft:quartz_slab',\n",
       " 26: 'minecraft:bricks',\n",
       " 174: 'minecraft:quartz_pillar',\n",
       " 50: 'minecraft:quartz_pillar',\n",
       " 173: 'minecraft:quartz_pillar',\n",
       " 127: 'minecraft:dark_oak_door',\n",
       " 119: 'minecraft:dark_oak_door',\n",
       " 124: 'minecraft:dark_oak_door',\n",
       " 128: 'minecraft:dark_oak_door',\n",
       " 121: 'minecraft:dark_oak_door',\n",
       " 123: 'minecraft:dark_oak_door',\n",
       " 129: 'minecraft:dark_oak_door',\n",
       " 131: 'minecraft:dark_oak_door',\n",
       " 65: 'minecraft:dark_oak_door',\n",
       " 133: 'minecraft:dark_oak_door',\n",
       " 134: 'minecraft:dark_oak_door',\n",
       " 118: 'minecraft:dark_oak_door',\n",
       " 117: 'minecraft:dark_oak_door',\n",
       " 74: 'minecraft:dark_oak_door',\n",
       " 5: 'minecraft:granite',\n",
       " 137: 'minecraft:lever',\n",
       " 88: 'minecraft:lever',\n",
       " 136: 'minecraft:lever',\n",
       " 91: 'minecraft:lever',\n",
       " 113: 'minecraft:waxed_cut_copper',\n",
       " 1: 'minecraft:stone',\n",
       " 168: 'minecraft:deepslate_tile_slab',\n",
       " 158: 'minecraft:deepslate_tile_slab',\n",
       " 146: 'minecraft:deepslate_tile_slab',\n",
       " 25: 'minecraft:brick_stairs',\n",
       " 30: 'minecraft:brick_stairs',\n",
       " 27: 'minecraft:brick_stairs',\n",
       " 47: 'minecraft:brick_stairs',\n",
       " 23: 'minecraft:brick_stairs',\n",
       " 49: 'minecraft:brick_stairs',\n",
       " 32: 'minecraft:brick_stairs',\n",
       " 29: 'minecraft:brick_stairs',\n",
       " 61: 'minecraft:diorite_stairs',\n",
       " 101: 'minecraft:diorite_stairs',\n",
       " 103: 'minecraft:diorite_stairs',\n",
       " 112: 'minecraft:diorite_stairs',\n",
       " 100: 'minecraft:diorite_stairs',\n",
       " 97: 'minecraft:diorite_stairs',\n",
       " 98: 'minecraft:diorite_stairs',\n",
       " 22: 'minecraft:azalea_leaves',\n",
       " 34: 'minecraft:dark_oak_wood',\n",
       " 33: 'minecraft:dark_oak_wood',\n",
       " 37: 'minecraft:dark_oak_wood',\n",
       " 102: 'minecraft:redstone_lamp',\n",
       " 169: 'minecraft:redstone_lamp',\n",
       " 2: 'minecraft:gravel',\n",
       " 67: 'minecraft:smooth_quartz',\n",
       " 70: 'minecraft:pink_terracotta',\n",
       " 140: 'minecraft:birch_slab',\n",
       " 51: 'minecraft:iron_bars',\n",
       " 52: 'minecraft:iron_bars',\n",
       " 19: 'minecraft:note_block',\n",
       " 17: 'minecraft:note_block',\n",
       " 13: 'minecraft:note_block',\n",
       " 21: 'minecraft:dirt_path',\n",
       " 111: 'minecraft:white_wool',\n",
       " 31: 'minecraft:chiseled_quartz_block',\n",
       " 39: 'minecraft:stripped_dark_oak_log',\n",
       " 43: 'minecraft:stripped_dark_oak_log',\n",
       " 6: 'minecraft:coal_ore',\n",
       " 24: 'minecraft:flowering_azalea_leaves',\n",
       " 9: 'minecraft:air',\n",
       " 15: 'minecraft:grass_block',\n",
       " 59: 'minecraft:campfire',\n",
       " 60: 'minecraft:campfire',\n",
       " 64: 'minecraft:oak_button',\n",
       " 4: 'minecraft:diorite',\n",
       " 54: 'minecraft:stripped_spruce_log',\n",
       " 96: 'minecraft:stripped_spruce_log',\n",
       " 0: 'minecraft:sandstone',\n",
       " 126: 'minecraft:light_blue_terracotta',\n",
       " 8: 'minecraft:packed_ice',\n",
       " 108: 'minecraft:smooth_quartz_slab',\n",
       " 89: 'minecraft:smooth_quartz_slab',\n",
       " 7: 'minecraft:dirt',\n",
       " 14: 'minecraft:gold_block',\n",
       " 35: 'minecraft:dark_oak_planks'}"
      ]
     },
     "execution_count": 76,
     "metadata": {},
     "output_type": "execute_result"
    }
   ],
   "source": [
    "materials_with_nbt = {int(v):k for k,v in sf.root['Palette'].items()}\n",
    "from collections import defaultdict\n",
    "r_materials = defaultdict(L)\n",
    "for k,v in sf.root['Palette'].items():\n",
    "    r_materials[k.split('[')[0]].append(int(v))\n",
    "materials = dict()\n",
    "for m in r_materials:\n",
    "    for i in r_materials[m]:\n",
    "        materials[i]=m\n",
    "materials"
   ]
  },
  {
   "cell_type": "code",
   "execution_count": 78,
   "id": "5c110eb5",
   "metadata": {},
   "outputs": [],
   "source": [
    "import matplotlib.pyplot as plt"
   ]
  },
  {
   "cell_type": "code",
   "execution_count": 69,
   "id": "3a4aabe7",
   "metadata": {},
   "outputs": [
    {
     "data": {
      "text/plain": [
       "'test'"
      ]
     },
     "execution_count": 69,
     "metadata": {},
     "output_type": "execute_result"
    }
   ],
   "source": [
    "'test[]'.split('[')[0]"
   ]
  },
  {
   "cell_type": "code",
   "execution_count": 81,
   "id": "563026b0",
   "metadata": {},
   "outputs": [],
   "source": [
    "import matplotlib.pyplot as plt\n",
    "import numpy as np\n",
    "\n",
    "\n",
    "# prepare some coordinates\n",
    "x, y, z = np.indices((8, 8, 8))\n",
    "\n",
    "# draw cuboids in the top left and bottom right corners, and a link between\n",
    "# them\n",
    "cube1 = (x < 3) & (y < 3) & (z < 3)\n",
    "cube2 = (x >= 5) & (y >= 5) & (z >= 5)\n",
    "link = abs(x - y) + abs(y - z) + abs(z - x) <= 2\n",
    "\n",
    "# combine the objects into a single boolean array\n",
    "voxelarray = cube1 | cube2 | link\n",
    "\n",
    "# set the colors of each object\n",
    "colors = np.empty(voxelarray.shape, dtype=object)\n",
    "colors[link] = 'red'\n",
    "colors[cube1] = 'blue'\n",
    "colors[cube2] = 'green'\n",
    "\n",
    "# and plot everything\n",
    "ax = plt.figure().add_subplot(projection='3d')\n",
    "ax.voxels(voxelarray, facecolors=colors, edgecolor='k')\n",
    "\n",
    "plt.show()"
   ]
  }
 ],
 "metadata": {
  "kernelspec": {
   "display_name": "Python 3 (ipykernel)",
   "language": "python",
   "name": "python3"
  },
  "language_info": {
   "codemirror_mode": {
    "name": "ipython",
    "version": 3
   },
   "file_extension": ".py",
   "mimetype": "text/x-python",
   "name": "python",
   "nbconvert_exporter": "python",
   "pygments_lexer": "ipython3",
   "version": "3.10.4"
  }
 },
 "nbformat": 4,
 "nbformat_minor": 5
}
